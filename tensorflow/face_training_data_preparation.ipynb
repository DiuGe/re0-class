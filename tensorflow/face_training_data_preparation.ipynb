{
 "cells": [
  {
   "cell_type": "code",
   "execution_count": 1,
   "metadata": {},
   "outputs": [
    {
     "name": "stderr",
     "output_type": "stream",
     "text": [
      "Using TensorFlow backend.\n"
     ]
    },
    {
     "name": "stdout",
     "output_type": "stream",
     "text": [
      "['data_face_extracted/happy', 'data_face_extracted/unhappy']\n"
     ]
    }
   ],
   "source": [
    "import os\n",
    "from keras.preprocessing.image import ImageDataGenerator, array_to_img, img_to_array, load_img\n",
    "    \n",
    "FACE_EXTRACTED_DATASET_PATH = 'data_face_extracted/'\n",
    "dirs = os.listdir(FACE_EXTRACTED_DATASET_PATH)\n",
    "ds = []\n",
    "for d in dirs:\n",
    "    if d.isalnum():\n",
    "        ds.append(os.path.join(FACE_EXTRACTED_DATASET_PATH, d))\n",
    "print(ds)\n",
    "\n",
    "FACE_EXTRACTED_DATASET_PATH = 'data_face_training/'"
   ]
  },
  {
   "cell_type": "code",
   "execution_count": 3,
   "metadata": {},
   "outputs": [],
   "source": [
    "def genImages(input_image_path, category):\n",
    "    datagen = ImageDataGenerator(\n",
    "            rotation_range=20,\n",
    "            width_shift_range=0.1,\n",
    "            height_shift_range=0.1,\n",
    "            shear_range=0.1,\n",
    "            zoom_range=0.1,\n",
    "            horizontal_flip=True,\n",
    "            fill_mode='nearest')\n",
    "\n",
    "    img = load_img(input_image_path)  # this is a PIL image\n",
    "    x = img_to_array(img)  # this is a Numpy array with shape (3, 224, 224)\n",
    "    x = x.reshape((1,) + x.shape)  # this is a Numpy array with shape (1, 3, 224, 224)\n",
    "\n",
    "    # the .flow() command below generates batches of randomly transformed images\n",
    "    # and saves the results to the `preview/` directory\n",
    "    i = 0\n",
    "#     print(\"directory: \", os.path.join(FACE_EXTRACTED_DATASET_PATH, category))\n",
    "    for batch in datagen.flow(x, batch_size=1,\n",
    "                              save_to_dir=os.path.join(FACE_EXTRACTED_DATASET_PATH, category), \n",
    "                              save_prefix=category, \n",
    "                              save_format='jpeg'):\n",
    "        i += 1\n",
    "        if i > 3:\n",
    "            break  # otherwise the generator would loop indefinitely"
   ]
  },
  {
   "cell_type": "code",
   "execution_count": 2,
   "metadata": {},
   "outputs": [],
   "source": [
    "def processOneImageFace(img_path, category):\n",
    "    try:\n",
    "        genImages(img_path, category)\n",
    "    except:\n",
    "        pass\n",
    "    \n",
    "\n",
    "def processOneDirectory(raw_dir):\n",
    "    raw_image_files = os.listdir(raw_dir)\n",
    "    category = raw_dir.split('/')[-1]\n",
    "    print(category)\n",
    "    for i in range(0, len(raw_image_files)):\n",
    "        input_image_path = os.path.join(raw_dir, raw_image_files[i])\n",
    "        processOneImageFace(input_image_path, category)\n",
    "        \n",
    "        if i % 100 == 0:\n",
    "            print(i, raw_dir)"
   ]
  },
  {
   "cell_type": "code",
   "execution_count": 5,
   "metadata": {},
   "outputs": [
    {
     "name": "stdout",
     "output_type": "stream",
     "text": [
      "data_face_extracted/happy\n",
      "happy\n",
      "0 data_face_extracted/happy\n",
      "100 data_face_extracted/happy\n",
      "200 data_face_extracted/happy\n",
      "300 data_face_extracted/happy\n",
      "400 data_face_extracted/happy\n",
      "data_face_extracted/unhappy\n",
      "unhappy\n",
      "0 data_face_extracted/unhappy\n",
      "100 data_face_extracted/unhappy\n",
      "200 data_face_extracted/unhappy\n",
      "300 data_face_extracted/unhappy\n"
     ]
    }
   ],
   "source": [
    "for j in range(0, len(ds)):\n",
    "    raw_dir = ds[j]\n",
    "    print(raw_dir)\n",
    "    processOneDirectory(raw_dir)"
   ]
  }
 ],
 "metadata": {
  "kernelspec": {
   "display_name": "Python 3",
   "language": "python",
   "name": "python3"
  },
  "language_info": {
   "codemirror_mode": {
    "name": "ipython",
    "version": 3
   },
   "file_extension": ".py",
   "mimetype": "text/x-python",
   "name": "python",
   "nbconvert_exporter": "python",
   "pygments_lexer": "ipython3",
   "version": "3.6.3"
  }
 },
 "nbformat": 4,
 "nbformat_minor": 2
}
